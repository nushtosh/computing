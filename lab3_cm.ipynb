{
 "cells": [
  {
   "cell_type": "code",
   "execution_count": 44,
   "id": "e6461c0a-7c19-4807-a032-ff14304d1758",
   "metadata": {},
   "outputs": [],
   "source": [
    "import numpy as np\n",
    "import pandas as pd\n",
    "from scipy.linalg import solve"
   ]
  },
  {
   "cell_type": "code",
   "execution_count": 45,
   "id": "73450a63-90fd-4002-83d4-5eec8eeb1e84",
   "metadata": {},
   "outputs": [],
   "source": [
    "def QRdec(A):\n",
    "    (r, c) = np.shape(A)\n",
    "    Q = np.identity(r)\n",
    "    R = np.copy(A)\n",
    "    (rows, cols) = np.tril_indices(r, -1, c)\n",
    "    for (row, col) in zip(rows, cols):\n",
    "        if R[row, col] != 0:\n",
    "            temp = np.sqrt(R[col, col]**2+R[row, col]**2)  \n",
    "            cos = R[col, col]/temp\n",
    "            sin = -R[row, col]/temp\n",
    "            T = np.identity(r)\n",
    "            T[[col, row], [col,row]] = cos\n",
    "            T[row, col] = sin\n",
    "            T[col, row] = -sin\n",
    "            R = T.dot(R)\n",
    "            Q = Q.dot(T.T)\n",
    "    return (Q, R)"
   ]
  },
  {
   "cell_type": "code",
   "execution_count": 46,
   "id": "812f6941-b006-4b0c-b4bd-869b171c7bd9",
   "metadata": {},
   "outputs": [],
   "source": [
    "#returns array with cond number\n",
    "def Ncond(A):\n",
    "#spectral\n",
    "    normA=np.linalg.norm(A, ord=1)\n",
    "    A_1=np.linalg.inv(A)\n",
    "    normA_1=np.linalg.norm(A_1, ord=1)\n",
    "    conds=normA*normA_1\n",
    "#ortega\n",
    "    number=len(A)\n",
    "    condv=1\n",
    "    for i in range(number):\n",
    "        colsum=0\n",
    "        for j in range(number):\n",
    "            colsum=colsum+A[i][j]\n",
    "        colsum=np.sqrt(abs(colsum))\n",
    "        condv=condv*colsum\n",
    "    detA=abs(np.linalg.det(A))\n",
    "    condv=condv/detA\n",
    "#angle\n",
    "    pros=[]\n",
    "    for i in range(number):\n",
    "        Asum=0\n",
    "        A_1sum=0\n",
    "        for j in range(number):\n",
    "            Asum=Asum+A[i][j]*A[i][j]\n",
    "            A_1sum=Asum+A_1[i][j]*A_1[i][j]\n",
    "        pros.append(np.sqrt(Asum*A_1sum))\n",
    "    conda=max(pros)\n",
    "    \n",
    "    cond=[]\n",
    "    cond.append(conds)\n",
    "    cond.append(condv)\n",
    "    cond.append(conda)\n",
    "    return cond"
   ]
  },
  {
   "cell_type": "code",
   "execution_count": 51,
   "id": "ac554ed7-154f-4597-bc0e-196f7cd40082",
   "metadata": {},
   "outputs": [],
   "source": [
    "#cond numbers for A,Q,R\n",
    "def Filling(A):\n",
    "    Q=QRdec(A)[0]\n",
    "    R=QRdec(A)[1]\n",
    "    resA=Ncond(A)\n",
    "    resQ=Ncond(Q)\n",
    "    resR=Ncond(R)\n",
    "    conds=['spectral','volume','angular']\n",
    "    data = {'name':[],'cond': [], 'num': []}\n",
    "    df = pd.DataFrame(data)\n",
    "    \n",
    "    for j in range(3):\n",
    "        new_row = {'name':'A','cond':conds[j], 'num': resA[j]}\n",
    "        df=df.append(new_row,ignore_index=True)\n",
    "    for j in range(3):\n",
    "        new_row = {'name':'Q','cond':conds[j], 'num': resQ[j]}\n",
    "        df=df.append(new_row,ignore_index=True)\n",
    "    for j in range(3):\n",
    "        new_row = {'name':'R','cond':conds[j], 'num': resR[j]}\n",
    "        df=df.append(new_row,ignore_index=True)\n",
    "    \n",
    "    print(df)"
   ]
  },
  {
   "cell_type": "code",
   "execution_count": 57,
   "id": "6835052a-3dab-4b4b-b11c-c9eb58d2394e",
   "metadata": {},
   "outputs": [
    {
     "data": {
      "text/plain": [
       "array([[4, 2, 0, 0],\n",
       "       [2, 5, 2, 0],\n",
       "       [0, 2, 6, 2],\n",
       "       [0, 0, 2, 7]])"
      ]
     },
     "execution_count": 57,
     "metadata": {},
     "output_type": "execute_result"
    }
   ],
   "source": [
    "#LU test good\n",
    "a = np.array([[4,2,0,0],[2,5,2,0],[0,2,6,2],[0,0,2,7]])\n",
    "b=np.array([-0.393, -0.389,-0.393, -0.389])\n",
    "a"
   ]
  },
  {
   "cell_type": "code",
   "execution_count": 58,
   "id": "0c43c930-1cd4-4e4d-8094-82844e582252",
   "metadata": {},
   "outputs": [
    {
     "name": "stdout",
     "output_type": "stream",
     "text": [
      "[[ 0.89442719 -0.39036003  0.1983799  -0.09090909]\n",
      " [ 0.4472136   0.78072006 -0.3967598   0.18181818]\n",
      " [ 0.          0.48795004  0.7935196  -0.36363636]\n",
      " [ 0.          0.          0.41659779  0.90909091]]\n",
      "[[4.47213595 4.02492236 0.89442719 0.        ]\n",
      " [0.         4.09878031 4.48914034 0.97590007]\n",
      " [0.         0.         4.80079359 4.50322373]\n",
      " [0.         0.         0.         5.63636364]]\n"
     ]
    }
   ],
   "source": [
    "Q=QRdec(a)[0]\n",
    "R=QRdec(a)[1]\n",
    "print(Q)\n",
    "print(R)"
   ]
  },
  {
   "cell_type": "code",
   "execution_count": 59,
   "id": "3fa6b19d-a9cf-4007-b97f-d0d98ccaf494",
   "metadata": {},
   "outputs": [
    {
     "name": "stdout",
     "output_type": "stream",
     "text": [
      "  name      cond        num\n",
      "0    A  spectral   6.048387\n",
      "1    A    volume   0.140552\n",
      "2    A   angular  53.013006\n",
      "3    Q  spectral   3.261218\n",
      "4    Q    volume   0.868195\n",
      "5    Q   angular   1.351461\n",
      "6    R  spectral   6.670395\n",
      "7    R    volume   0.138368\n",
      "8    R   angular  43.340489\n"
     ]
    }
   ],
   "source": [
    "Filling(a)"
   ]
  },
  {
   "cell_type": "code",
   "execution_count": 60,
   "id": "2b4b7f1a-af1c-469b-9c69-73c5af35adc7",
   "metadata": {},
   "outputs": [
    {
     "name": "stdout",
     "output_type": "stream",
     "text": [
      "[-0.08466532 -0.02716935 -0.04191129 -0.04359677]\n",
      "[-0.08466532 -0.02716935 -0.04191129 -0.04359677]\n"
     ]
    }
   ],
   "source": [
    "x0=solve(a,b)\n",
    "z=solve(Q.dot(R),b)\n",
    "print(x0)\n",
    "print(z)"
   ]
  },
  {
   "cell_type": "code",
   "execution_count": 62,
   "id": "68b120b6-affa-4cd7-bfc5-81654a929bec",
   "metadata": {},
   "outputs": [
    {
     "data": {
      "text/plain": [
       "array([[1.  , 0.99],\n",
       "       [0.99, 0.98]])"
      ]
     },
     "execution_count": 62,
     "metadata": {},
     "output_type": "execute_result"
    }
   ],
   "source": [
    "#QR test not so good\n",
    "a = np.array([[1,0.99],[0.99,0.98]])\n",
    "b=np.array([-0.393, -0.389])\n",
    "a"
   ]
  },
  {
   "cell_type": "code",
   "execution_count": 63,
   "id": "a80826f1-2a1e-4469-8db1-0e22cd1b4cea",
   "metadata": {},
   "outputs": [
    {
     "name": "stdout",
     "output_type": "stream",
     "text": [
      "[[ 0.71065111 -0.7035446 ]\n",
      " [ 0.7035446   0.71065111]]\n",
      "[[ 1.40716026e+00  1.39301830e+00]\n",
      " [ 0.00000000e+00 -7.10651109e-05]]\n"
     ]
    }
   ],
   "source": [
    "Q=QRdec(a)[0]\n",
    "R=QRdec(a)[1]\n",
    "print(Q)\n",
    "print(R)"
   ]
  },
  {
   "cell_type": "code",
   "execution_count": 64,
   "id": "f7717c55-c663-4af3-a763-3cbe33500a7f",
   "metadata": {},
   "outputs": [
    {
     "name": "stdout",
     "output_type": "stream",
     "text": [
      "  name      cond           num\n",
      "0    A  spectral  39601.000000\n",
      "1    A    volume  19799.747473\n",
      "2    A   angular  13930.886724\n",
      "3    Q  spectral      1.999949\n",
      "4    Q    volume      0.100250\n",
      "5    Q   angular      1.226795\n",
      "6    R  spectral  39403.000000\n",
      "7    R    volume    141.065588\n",
      "8    R   angular  27582.466213\n"
     ]
    }
   ],
   "source": [
    "Filling(a)"
   ]
  },
  {
   "cell_type": "code",
   "execution_count": 65,
   "id": "3ff2b4b2-5c6c-4450-bda7-460bd9cde64b",
   "metadata": {},
   "outputs": [
    {
     "name": "stdout",
     "output_type": "stream",
     "text": [
      "[ 0.3 -0.7]\n",
      "[ 0.3 -0.7]\n"
     ]
    }
   ],
   "source": [
    "x0=solve(a,b)\n",
    "z=solve(Q.dot(R),b)\n",
    "print(x0)\n",
    "print(z)"
   ]
  },
  {
   "cell_type": "code",
   "execution_count": null,
   "id": "0819f6dd-6730-4aaf-8f7f-73e1df7ca48c",
   "metadata": {},
   "outputs": [],
   "source": [
    "#QR test bad\n",
    "a = np.array([[1.2969, 0.8648],[0.2161,0.1441]])\n",
    "b=np.array([-0.393, -0.389])\n",
    "a"
   ]
  }
 ],
 "metadata": {
  "kernelspec": {
   "display_name": "Python 3",
   "language": "python",
   "name": "python3"
  },
  "language_info": {
   "codemirror_mode": {
    "name": "ipython",
    "version": 3
   },
   "file_extension": ".py",
   "mimetype": "text/x-python",
   "name": "python",
   "nbconvert_exporter": "python",
   "pygments_lexer": "ipython3",
   "version": "3.8.8"
  }
 },
 "nbformat": 4,
 "nbformat_minor": 5
}
