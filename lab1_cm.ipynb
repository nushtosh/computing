{
 "cells": [
  {
   "cell_type": "code",
   "execution_count": 183,
   "id": "905a9ee3-45dd-4889-a744-7c42dde3952b",
   "metadata": {},
   "outputs": [],
   "source": [
    "import numpy as np\n",
    "import pandas as pd\n",
    "from scipy.linalg import solve"
   ]
  },
  {
   "cell_type": "code",
   "execution_count": 184,
   "id": "84922b67-1746-42c6-94fe-628a33009d1f",
   "metadata": {},
   "outputs": [],
   "source": [
    "def Ncond(A):\n",
    "#spectral\n",
    "    normA=np.linalg.norm(A, ord=1)\n",
    "    A_1=np.linalg.inv(A)\n",
    "    normA_1=np.linalg.norm(A_1, ord=1)\n",
    "    conds=normA*normA_1\n",
    "#ortega\n",
    "    number=len(A)\n",
    "    condv=1\n",
    "    for i in range(number):\n",
    "        colsum=0\n",
    "        for j in range(number):\n",
    "            colsum=colsum+A[i][j]\n",
    "        colsum=np.sqrt(colsum)\n",
    "        condv=condv*colsum\n",
    "    detA=abs(np.linalg.det(A))\n",
    "    condv=condv/detA\n",
    "#angle\n",
    "    pros=[]\n",
    "    for i in range(number):\n",
    "        Asum=0\n",
    "        A_1sum=0\n",
    "        for j in range(number):\n",
    "            Asum=Asum+A[i][j]*A[i][j]\n",
    "            A_1sum=Asum+A_1[i][j]*A_1[i][j]\n",
    "        pros.append(np.sqrt(Asum*A_1sum))\n",
    "    conda=max(pros)\n",
    "    \n",
    "    cond=[]\n",
    "    cond.append(conds)\n",
    "    cond.append(condv)\n",
    "    cond.append(conda)\n",
    "    return cond"
   ]
  },
  {
   "cell_type": "code",
   "execution_count": 185,
   "id": "4257e3e9-adfa-4790-b2cc-58ccbfda1a4b",
   "metadata": {},
   "outputs": [],
   "source": [
    "def Vari(A,B,number):\n",
    "#varying matrix A, number - power of 10\n",
    "    variA = [[0 for j in range(len(A))] for i in range(len(A))]\n",
    "    for i in range (len(variA)):\n",
    "        for j in range(len(variA)):\n",
    "            variA[i][j]=A[i][j]\n",
    "            variA[i][j]=round(variA[i][j],number)\n",
    "#varying b\n",
    "    varib = [0 for j in range(len(B))]\n",
    "    for k in range(len(varib)):\n",
    "        varib[k]=B[k]\n",
    "        varib[k]=round(varib[k],number)\n",
    "#comparing x and x~\n",
    "    x=solve(A,B)\n",
    "    varix=solve(variA,varib)\n",
    "    sum=0\n",
    "    for g in range (len(varix)):\n",
    "        sum=sum+abs(x[g]-varix[g])**2\n",
    "    sum=np.sqrt(sum)\n",
    "    res=sum\n",
    "    return res"
   ]
  },
  {
   "cell_type": "code",
   "execution_count": 186,
   "id": "356cefed-9bc7-40bb-9e5d-2c022bc7c318",
   "metadata": {},
   "outputs": [
    {
     "data": {
      "text/plain": [
       "0.010899534910060923"
      ]
     },
     "execution_count": 186,
     "metadata": {},
     "output_type": "execute_result"
    }
   ],
   "source": [
    "Vari(a,b,1)"
   ]
  },
  {
   "cell_type": "code",
   "execution_count": 187,
   "id": "8f132f90-73d6-4f6f-9230-4a27c16b2f46",
   "metadata": {},
   "outputs": [],
   "source": [
    "def Filling(A,B):\n",
    "    res=Ncond(A)\n",
    "    conds=['spectral','volume','angular']\n",
    "    data = {'--':[],'cond(A)': [], 'round number': [], '|x-~x|': []}\n",
    "    df = pd.DataFrame(data)\n",
    "    \n",
    "    for j in range(3):\n",
    "        new_row = {'--':conds[j],'cond(A)':res[j]}\n",
    "        df=df.append(new_row,ignore_index=True)\n",
    "    \n",
    "    for i in range(10):\n",
    "        res=Vari(A,B,10-i)\n",
    "        new_row = {'round number':10-i,'|x-~x|':res}\n",
    "        df=df.append(new_row,ignore_index=True)\n",
    "    print(df)\n",
    "    "
   ]
  },
  {
   "cell_type": "code",
   "execution_count": 188,
   "id": "6064eae7-aafe-41e2-a557-51992ab5bcec",
   "metadata": {},
   "outputs": [],
   "source": [
    "#hilbert matrix n=6\n",
    "number=6\n",
    "a = [[0 for j in range(number)] for i in range(number)]\n",
    "for i in range (number):\n",
    "    for j in range(number):\n",
    "        a[i][j]=1/(i+j+1)\n",
    "b=[0 for k in range(number)]\n",
    "for i in range (number):\n",
    "    b[i]=1-1/(i+3)"
   ]
  },
  {
   "cell_type": "code",
   "execution_count": 189,
   "id": "2e66cb47-7674-441b-93b6-8679f514b917",
   "metadata": {},
   "outputs": [
    {
     "data": {
      "text/html": [
       "<div>\n",
       "<style scoped>\n",
       "    .dataframe tbody tr th:only-of-type {\n",
       "        vertical-align: middle;\n",
       "    }\n",
       "\n",
       "    .dataframe tbody tr th {\n",
       "        vertical-align: top;\n",
       "    }\n",
       "\n",
       "    .dataframe thead th {\n",
       "        text-align: right;\n",
       "    }\n",
       "</style>\n",
       "<table border=\"1\" class=\"dataframe\">\n",
       "  <thead>\n",
       "    <tr style=\"text-align: right;\">\n",
       "      <th></th>\n",
       "      <th>0</th>\n",
       "      <th>1</th>\n",
       "      <th>2</th>\n",
       "      <th>3</th>\n",
       "      <th>4</th>\n",
       "      <th>5</th>\n",
       "    </tr>\n",
       "  </thead>\n",
       "  <tbody>\n",
       "    <tr>\n",
       "      <th>0</th>\n",
       "      <td>1.000000</td>\n",
       "      <td>0.500000</td>\n",
       "      <td>0.333333</td>\n",
       "      <td>0.250000</td>\n",
       "      <td>0.200000</td>\n",
       "      <td>0.166667</td>\n",
       "    </tr>\n",
       "    <tr>\n",
       "      <th>1</th>\n",
       "      <td>0.500000</td>\n",
       "      <td>0.333333</td>\n",
       "      <td>0.250000</td>\n",
       "      <td>0.200000</td>\n",
       "      <td>0.166667</td>\n",
       "      <td>0.142857</td>\n",
       "    </tr>\n",
       "    <tr>\n",
       "      <th>2</th>\n",
       "      <td>0.333333</td>\n",
       "      <td>0.250000</td>\n",
       "      <td>0.200000</td>\n",
       "      <td>0.166667</td>\n",
       "      <td>0.142857</td>\n",
       "      <td>0.125000</td>\n",
       "    </tr>\n",
       "    <tr>\n",
       "      <th>3</th>\n",
       "      <td>0.250000</td>\n",
       "      <td>0.200000</td>\n",
       "      <td>0.166667</td>\n",
       "      <td>0.142857</td>\n",
       "      <td>0.125000</td>\n",
       "      <td>0.111111</td>\n",
       "    </tr>\n",
       "    <tr>\n",
       "      <th>4</th>\n",
       "      <td>0.200000</td>\n",
       "      <td>0.166667</td>\n",
       "      <td>0.142857</td>\n",
       "      <td>0.125000</td>\n",
       "      <td>0.111111</td>\n",
       "      <td>0.100000</td>\n",
       "    </tr>\n",
       "    <tr>\n",
       "      <th>5</th>\n",
       "      <td>0.166667</td>\n",
       "      <td>0.142857</td>\n",
       "      <td>0.125000</td>\n",
       "      <td>0.111111</td>\n",
       "      <td>0.100000</td>\n",
       "      <td>0.090909</td>\n",
       "    </tr>\n",
       "  </tbody>\n",
       "</table>\n",
       "</div>"
      ],
      "text/plain": [
       "          0         1         2         3         4         5\n",
       "0  1.000000  0.500000  0.333333  0.250000  0.200000  0.166667\n",
       "1  0.500000  0.333333  0.250000  0.200000  0.166667  0.142857\n",
       "2  0.333333  0.250000  0.200000  0.166667  0.142857  0.125000\n",
       "3  0.250000  0.200000  0.166667  0.142857  0.125000  0.111111\n",
       "4  0.200000  0.166667  0.142857  0.125000  0.111111  0.100000\n",
       "5  0.166667  0.142857  0.125000  0.111111  0.100000  0.090909"
      ]
     },
     "execution_count": 189,
     "metadata": {},
     "output_type": "execute_result"
    }
   ],
   "source": [
    "dfa=pd.DataFrame(a)\n",
    "dfa"
   ]
  },
  {
   "cell_type": "code",
   "execution_count": 190,
   "id": "2c5d69d3-22b3-438a-b3bb-783bca7468bc",
   "metadata": {},
   "outputs": [
    {
     "data": {
      "text/plain": [
       "[0.6666666666666667, 0.75, 0.8, 0.8333333333333334, 0.8571428571428572, 0.875]"
      ]
     },
     "execution_count": 190,
     "metadata": {},
     "output_type": "execute_result"
    }
   ],
   "source": [
    "b"
   ]
  },
  {
   "cell_type": "code",
   "execution_count": 191,
   "id": "e060dedc-ab1d-4763-9931-b6fb7e03fac0",
   "metadata": {},
   "outputs": [
    {
     "name": "stdout",
     "output_type": "stream",
     "text": [
      "          --       cond(A)  round number        |x-~x|\n",
      "0   spectral  2.907028e+07           NaN           NaN\n",
      "1     volume  3.198561e+17           NaN           NaN\n",
      "2    angular  6.561314e+05           NaN           NaN\n",
      "3        NaN           NaN          10.0      0.725127\n",
      "4        NaN           NaN           9.0      7.278866\n",
      "5        NaN           NaN           8.0    335.486866\n",
      "6        NaN           NaN           7.0   7513.451404\n",
      "7        NaN           NaN           6.0  12305.350895\n",
      "8        NaN           NaN           5.0   2878.977843\n",
      "9        NaN           NaN           4.0   8830.219114\n",
      "10       NaN           NaN           3.0   8836.413897\n",
      "11       NaN           NaN           2.0   8687.027640\n",
      "12       NaN           NaN           1.0   8696.044281\n"
     ]
    }
   ],
   "source": [
    "Filling(a,b)"
   ]
  },
  {
   "cell_type": "code",
   "execution_count": 192,
   "id": "7f95d571-d47c-4856-9bff-2b6c82b017a1",
   "metadata": {},
   "outputs": [],
   "source": [
    "#hilbert matrix n=5\n",
    "number=5\n",
    "a = [[0 for j in range(number)] for i in range(number)]\n",
    "for i in range (number):\n",
    "    for j in range(number):\n",
    "        a[i][j]=1/(i+j+1)\n",
    "b=[0 for k in range(number)]\n",
    "for i in range (number):\n",
    "    b[i]=1-1/(i+3)"
   ]
  },
  {
   "cell_type": "code",
   "execution_count": 193,
   "id": "98a9d877-1d1f-4a68-bfee-42b5f78e5233",
   "metadata": {},
   "outputs": [
    {
     "data": {
      "text/html": [
       "<div>\n",
       "<style scoped>\n",
       "    .dataframe tbody tr th:only-of-type {\n",
       "        vertical-align: middle;\n",
       "    }\n",
       "\n",
       "    .dataframe tbody tr th {\n",
       "        vertical-align: top;\n",
       "    }\n",
       "\n",
       "    .dataframe thead th {\n",
       "        text-align: right;\n",
       "    }\n",
       "</style>\n",
       "<table border=\"1\" class=\"dataframe\">\n",
       "  <thead>\n",
       "    <tr style=\"text-align: right;\">\n",
       "      <th></th>\n",
       "      <th>0</th>\n",
       "      <th>1</th>\n",
       "      <th>2</th>\n",
       "      <th>3</th>\n",
       "      <th>4</th>\n",
       "    </tr>\n",
       "  </thead>\n",
       "  <tbody>\n",
       "    <tr>\n",
       "      <th>0</th>\n",
       "      <td>1.000000</td>\n",
       "      <td>0.500000</td>\n",
       "      <td>0.333333</td>\n",
       "      <td>0.250000</td>\n",
       "      <td>0.200000</td>\n",
       "    </tr>\n",
       "    <tr>\n",
       "      <th>1</th>\n",
       "      <td>0.500000</td>\n",
       "      <td>0.333333</td>\n",
       "      <td>0.250000</td>\n",
       "      <td>0.200000</td>\n",
       "      <td>0.166667</td>\n",
       "    </tr>\n",
       "    <tr>\n",
       "      <th>2</th>\n",
       "      <td>0.333333</td>\n",
       "      <td>0.250000</td>\n",
       "      <td>0.200000</td>\n",
       "      <td>0.166667</td>\n",
       "      <td>0.142857</td>\n",
       "    </tr>\n",
       "    <tr>\n",
       "      <th>3</th>\n",
       "      <td>0.250000</td>\n",
       "      <td>0.200000</td>\n",
       "      <td>0.166667</td>\n",
       "      <td>0.142857</td>\n",
       "      <td>0.125000</td>\n",
       "    </tr>\n",
       "    <tr>\n",
       "      <th>4</th>\n",
       "      <td>0.200000</td>\n",
       "      <td>0.166667</td>\n",
       "      <td>0.142857</td>\n",
       "      <td>0.125000</td>\n",
       "      <td>0.111111</td>\n",
       "    </tr>\n",
       "  </tbody>\n",
       "</table>\n",
       "</div>"
      ],
      "text/plain": [
       "          0         1         2         3         4\n",
       "0  1.000000  0.500000  0.333333  0.250000  0.200000\n",
       "1  0.500000  0.333333  0.250000  0.200000  0.166667\n",
       "2  0.333333  0.250000  0.200000  0.166667  0.142857\n",
       "3  0.250000  0.200000  0.166667  0.142857  0.125000\n",
       "4  0.200000  0.166667  0.142857  0.125000  0.111111"
      ]
     },
     "execution_count": 193,
     "metadata": {},
     "output_type": "execute_result"
    }
   ],
   "source": [
    "dfa=pd.DataFrame(a)\n",
    "dfa"
   ]
  },
  {
   "cell_type": "code",
   "execution_count": 194,
   "id": "c180ab65-20b7-4506-855f-aca6c61357ec",
   "metadata": {},
   "outputs": [
    {
     "data": {
      "text/plain": [
       "[0.6666666666666667, 0.75, 0.8, 0.8333333333333334, 0.8571428571428572]"
      ]
     },
     "execution_count": 194,
     "metadata": {},
     "output_type": "execute_result"
    }
   ],
   "source": [
    "b"
   ]
  },
  {
   "cell_type": "code",
   "execution_count": 195,
   "id": "5aea676e-543b-4719-b9f4-d8374ce28cdb",
   "metadata": {},
   "outputs": [
    {
     "name": "stdout",
     "output_type": "stream",
     "text": [
      "          --       cond(A)  round number       |x-~x|\n",
      "0   spectral  9.436560e+05           NaN          NaN\n",
      "1     volume  4.120203e+11           NaN          NaN\n",
      "2    angular  3.596905e+04           NaN          NaN\n",
      "3        NaN           NaN          10.0     0.005589\n",
      "4        NaN           NaN           9.0     0.067107\n",
      "5        NaN           NaN           8.0     2.520119\n",
      "6        NaN           NaN           7.0    32.011859\n",
      "7        NaN           NaN           6.0   220.177687\n",
      "8        NaN           NaN           5.0    71.617966\n",
      "9        NaN           NaN           4.0  1333.745501\n",
      "10       NaN           NaN           3.0  1365.301063\n",
      "11       NaN           NaN           2.0  1434.704658\n",
      "12       NaN           NaN           1.0  1439.665671\n"
     ]
    }
   ],
   "source": [
    "Filling(a,b)"
   ]
  },
  {
   "cell_type": "code",
   "execution_count": 196,
   "id": "32925589-8924-4e3b-bebd-740ccc5b3b58",
   "metadata": {},
   "outputs": [],
   "source": [
    "#good matrix\n",
    "number=4\n",
    "a = [[4,2,0,0],[2,5,2,0],[0,2,6,2],[0,0,2,7]]\n",
    "b=[0 for k in range(number)]\n",
    "for i in range (number):\n",
    "    b[i]=1-1/(i+3)"
   ]
  },
  {
   "cell_type": "code",
   "execution_count": 197,
   "id": "4834b3a0-6b51-4055-bc02-175a7e914aa5",
   "metadata": {},
   "outputs": [
    {
     "data": {
      "text/html": [
       "<div>\n",
       "<style scoped>\n",
       "    .dataframe tbody tr th:only-of-type {\n",
       "        vertical-align: middle;\n",
       "    }\n",
       "\n",
       "    .dataframe tbody tr th {\n",
       "        vertical-align: top;\n",
       "    }\n",
       "\n",
       "    .dataframe thead th {\n",
       "        text-align: right;\n",
       "    }\n",
       "</style>\n",
       "<table border=\"1\" class=\"dataframe\">\n",
       "  <thead>\n",
       "    <tr style=\"text-align: right;\">\n",
       "      <th></th>\n",
       "      <th>0</th>\n",
       "      <th>1</th>\n",
       "      <th>2</th>\n",
       "      <th>3</th>\n",
       "    </tr>\n",
       "  </thead>\n",
       "  <tbody>\n",
       "    <tr>\n",
       "      <th>0</th>\n",
       "      <td>4</td>\n",
       "      <td>2</td>\n",
       "      <td>0</td>\n",
       "      <td>0</td>\n",
       "    </tr>\n",
       "    <tr>\n",
       "      <th>1</th>\n",
       "      <td>2</td>\n",
       "      <td>5</td>\n",
       "      <td>2</td>\n",
       "      <td>0</td>\n",
       "    </tr>\n",
       "    <tr>\n",
       "      <th>2</th>\n",
       "      <td>0</td>\n",
       "      <td>2</td>\n",
       "      <td>6</td>\n",
       "      <td>2</td>\n",
       "    </tr>\n",
       "    <tr>\n",
       "      <th>3</th>\n",
       "      <td>0</td>\n",
       "      <td>0</td>\n",
       "      <td>2</td>\n",
       "      <td>7</td>\n",
       "    </tr>\n",
       "  </tbody>\n",
       "</table>\n",
       "</div>"
      ],
      "text/plain": [
       "   0  1  2  3\n",
       "0  4  2  0  0\n",
       "1  2  5  2  0\n",
       "2  0  2  6  2\n",
       "3  0  0  2  7"
      ]
     },
     "execution_count": 197,
     "metadata": {},
     "output_type": "execute_result"
    }
   ],
   "source": [
    "dfa=pd.DataFrame(a)\n",
    "dfa"
   ]
  },
  {
   "cell_type": "code",
   "execution_count": 198,
   "id": "29fcc38f-3a04-40fc-9c36-34da39af5777",
   "metadata": {},
   "outputs": [
    {
     "data": {
      "text/plain": [
       "[0.6666666666666667, 0.75, 0.8, 0.8333333333333334]"
      ]
     },
     "execution_count": 198,
     "metadata": {},
     "output_type": "execute_result"
    }
   ],
   "source": [
    "b"
   ]
  },
  {
   "cell_type": "code",
   "execution_count": 199,
   "id": "d3c0a9ad-9c39-411c-9a4b-83b98381bbb4",
   "metadata": {},
   "outputs": [
    {
     "name": "stdout",
     "output_type": "stream",
     "text": [
      "          --    cond(A)  round number        |x-~x|\n",
      "0   spectral   6.048387           NaN           NaN\n",
      "1     volume   0.140552           NaN           NaN\n",
      "2    angular  53.013006           NaN           NaN\n",
      "3        NaN        NaN          10.0  1.483187e-11\n",
      "4        NaN        NaN           9.0  1.483191e-10\n",
      "5        NaN        NaN           8.0  1.483191e-09\n",
      "6        NaN        NaN           7.0  1.483191e-08\n",
      "7        NaN        NaN           6.0  1.483191e-07\n",
      "8        NaN        NaN           5.0  1.483191e-06\n",
      "9        NaN        NaN           4.0  1.483191e-05\n",
      "10       NaN        NaN           3.0  1.483191e-04\n",
      "11       NaN        NaN           2.0  1.483191e-03\n",
      "12       NaN        NaN           1.0  1.089953e-02\n"
     ]
    }
   ],
   "source": [
    "Filling(a,b)"
   ]
  },
  {
   "cell_type": "code",
   "execution_count": null,
   "id": "243b7a7c-4549-43f5-b4f7-8a0efeec5704",
   "metadata": {},
   "outputs": [],
   "source": []
  }
 ],
 "metadata": {
  "kernelspec": {
   "display_name": "Python 3",
   "language": "python",
   "name": "python3"
  },
  "language_info": {
   "codemirror_mode": {
    "name": "ipython",
    "version": 3
   },
   "file_extension": ".py",
   "mimetype": "text/x-python",
   "name": "python",
   "nbconvert_exporter": "python",
   "pygments_lexer": "ipython3",
   "version": "3.8.8"
  }
 },
 "nbformat": 4,
 "nbformat_minor": 5
}
